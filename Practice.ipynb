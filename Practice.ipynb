{
  "nbformat": 4,
  "nbformat_minor": 0,
  "metadata": {
    "colab": {
      "name": "Practice.ipynb",
      "provenance": [],
      "authorship_tag": "ABX9TyOp73ipPmNUaqmEWudrT3mY",
      "include_colab_link": true
    },
    "kernelspec": {
      "name": "python3",
      "display_name": "Python 3"
    },
    "language_info": {
      "name": "python"
    }
  },
  "cells": [
    {
      "cell_type": "markdown",
      "metadata": {
        "id": "view-in-github",
        "colab_type": "text"
      },
      "source": [
        "<a href=\"https://colab.research.google.com/github/paulfrancis24/CPEN-21A-CPE-1-2/blob/main/Practice.ipynb\" target=\"_parent\"><img src=\"https://colab.research.google.com/assets/colab-badge.svg\" alt=\"Open In Colab\"/></a>"
      ]
    },
    {
      "cell_type": "markdown",
      "metadata": {
        "id": "xLnYbnj53yEQ"
      },
      "source": [
        "#Introduction to Phyton"
      ]
    },
    {
      "cell_type": "code",
      "metadata": {
        "colab": {
          "base_uri": "https://localhost:8080/"
        },
        "id": "vIQHoEn83e4v",
        "outputId": "4a2da18f-8737-41ec-9c3f-648810362d35"
      },
      "source": [
        "#comment comment\n",
        "if 5>2:\n",
        "  print(\"hello hello hello\")\n"
      ],
      "execution_count": null,
      "outputs": [
        {
          "output_type": "stream",
          "name": "stdout",
          "text": [
            "hello hello hello\n"
          ]
        }
      ]
    },
    {
      "cell_type": "code",
      "metadata": {
        "colab": {
          "base_uri": "https://localhost:8080/"
        },
        "id": "EdCayTuNLMlC",
        "outputId": "eabbbff3-2b14-4fa2-dd2d-e7b6ffbfd3d8"
      },
      "source": [
        "a = 24\n",
        "b = 31\n",
        "c = 13\n",
        "print(a)\n",
        "print(b)\n",
        "print(c)\n"
      ],
      "execution_count": 12,
      "outputs": [
        {
          "output_type": "stream",
          "name": "stdout",
          "text": [
            "24\n",
            "31\n",
            "13\n"
          ]
        }
      ]
    },
    {
      "cell_type": "code",
      "metadata": {
        "colab": {
          "base_uri": "https://localhost:8080/"
        },
        "id": "acWTWDWYLpyF",
        "outputId": "c718d758-3b8c-4265-b6cc-62367bcc369e"
      },
      "source": [
        "a = \"comet\"\n",
        "b = int(22)\n",
        "#float is for decimal\n",
        "print(a)\n",
        "print(type(a))\n",
        "print(b)\n",
        "print(type(b))"
      ],
      "execution_count": 18,
      "outputs": [
        {
          "output_type": "stream",
          "name": "stdout",
          "text": [
            "comet\n",
            "<class 'str'>\n",
            "22\n",
            "<class 'int'>\n"
          ]
        }
      ]
    },
    {
      "cell_type": "code",
      "metadata": {
        "colab": {
          "base_uri": "https://localhost:8080/"
        },
        "id": "2fM-WPi-Ms74",
        "outputId": "1b04f825-3e88-4c13-9331-053308749428"
      },
      "source": [
        "a = 5\n",
        "b = 10\n",
        "print(a+b<a-b)"
      ],
      "execution_count": 24,
      "outputs": [
        {
          "output_type": "stream",
          "name": "stdout",
          "text": [
            "False\n"
          ]
        }
      ]
    },
    {
      "cell_type": "code",
      "metadata": {
        "colab": {
          "base_uri": "https://localhost:8080/"
        },
        "id": "HMicrPg9NQYv",
        "outputId": "936dfedd-fa13-4754-afb8-468375ee5a83"
      },
      "source": [
        "a+b is 4 or a*b is 50"
      ],
      "execution_count": 26,
      "outputs": [
        {
          "output_type": "execute_result",
          "data": {
            "text/plain": [
              "True"
            ]
          },
          "metadata": {},
          "execution_count": 26
        }
      ]
    },
    {
      "cell_type": "code",
      "metadata": {
        "id": "YUezEBYrNfJ-"
      },
      "source": [
        "a+b is 4 and a*b is 50"
      ],
      "execution_count": null,
      "outputs": []
    },
    {
      "cell_type": "code",
      "metadata": {
        "colab": {
          "base_uri": "https://localhost:8080/"
        },
        "id": "RJRBkjF1Nh0U",
        "outputId": "22ad0f1d-1707-41f1-8130-743c727a8669"
      },
      "source": [
        "answer = not(a+b is 4 == a*b is 50)\n",
        "if answer == True:\n",
        "  print(\"so true\")"
      ],
      "execution_count": 38,
      "outputs": [
        {
          "output_type": "stream",
          "name": "stdout",
          "text": [
            "so true\n"
          ]
        }
      ]
    },
    {
      "cell_type": "code",
      "metadata": {
        "colab": {
          "base_uri": "https://localhost:8080/"
        },
        "id": "WEaAX1Jg7meX",
        "outputId": "6f8d9440-5ba1-40d0-cd68-92827add8090"
      },
      "source": [
        "a, b, c, d = \"hehe\",\"12\", \"hello\", \"1\"\n",
        "print(a + \" \" + b + \" \" + c + \" \" + d)"
      ],
      "execution_count": 21,
      "outputs": [
        {
          "output_type": "stream",
          "name": "stdout",
          "text": [
            "hehe 12 hello 1\n"
          ]
        }
      ]
    }
  ]
}