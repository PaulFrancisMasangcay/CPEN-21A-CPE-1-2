{
  "nbformat": 4,
  "nbformat_minor": 0,
  "metadata": {
    "colab": {
      "name": "Final Exam.ipynb",
      "provenance": [],
      "authorship_tag": "ABX9TyNHKp4u/XBYR/q+eSdGLO7I",
      "include_colab_link": true
    },
    "kernelspec": {
      "name": "python3",
      "display_name": "Python 3"
    },
    "language_info": {
      "name": "python"
    }
  },
  "cells": [
    {
      "cell_type": "markdown",
      "metadata": {
        "id": "view-in-github",
        "colab_type": "text"
      },
      "source": [
        "<a href=\"https://colab.research.google.com/github/paulfrancis24/CPEN-21A-CPE-1-2/blob/main/Final_Exam.ipynb\" target=\"_parent\"><img src=\"https://colab.research.google.com/assets/colab-badge.svg\" alt=\"Open In Colab\"/></a>"
      ]
    },
    {
      "cell_type": "markdown",
      "source": [
        "##Problem Statement 1"
      ],
      "metadata": {
        "id": "SfiBIySSaPFZ"
      }
    },
    {
      "cell_type": "code",
      "execution_count": 23,
      "metadata": {
        "colab": {
          "base_uri": "https://localhost:8080/"
        },
        "id": "-5ihWoPPZfZ0",
        "outputId": "2986c750-0251-4e2e-c078-37258a4d5779"
      },
      "outputs": [
        {
          "output_type": "stream",
          "name": "stdout",
          "text": [
            "Enter a number: 3\n",
            "Enter a number: 5\n",
            "Enter a number: 3\n",
            "Enter a number: 6\n",
            "Enter a number: 1\n",
            "Enter a number: 67\n",
            "Enter a number: 5.01\n",
            "Enter a number: 3\n",
            "Enter a number: 0\n",
            "Enter a number: -5\n",
            "The sum of numbers less than 5 is 5.0\n"
          ]
        }
      ],
      "source": [
        "#sum of 10 numbers less than 5 (for loop)\n",
        "\n",
        "sum = 0\n",
        "\n",
        "for x in range (10):\n",
        "  \n",
        "  num = float(input(\"Enter a number: \"))\n",
        "  if num < 5:\n",
        "    sum = sum + num\n",
        "\n",
        "print(\"The sum of numbers less than 5 is \" + str(sum))"
      ]
    },
    {
      "cell_type": "markdown",
      "source": [
        "##Problem Statement 2"
      ],
      "metadata": {
        "id": "E1eGpsltivG9"
      }
    },
    {
      "cell_type": "code",
      "source": [
        "##accept 5 numbers and determine the sum of first and last number entered\n",
        "\n",
        "\n",
        "cap = 0\n",
        "arr=[]\n",
        "while cap is not 5:\n",
        "  num = int(input(\"Enter a number: \"))\n",
        "  arr.append(num)\n",
        "\n",
        "  cap += 1\n",
        "sum = arr[0] + arr[4]\n",
        "print(\"The sum of first and last number is \" + str(sum))"
      ],
      "metadata": {
        "colab": {
          "base_uri": "https://localhost:8080/"
        },
        "id": "T8HZMBWqjQbz",
        "outputId": "98f62b97-08be-47c2-c53a-92750b92dddb"
      },
      "execution_count": 49,
      "outputs": [
        {
          "output_type": "stream",
          "name": "stdout",
          "text": [
            "Enter a number: 1\n",
            "Enter a number: 3\n",
            "Enter a number: 3\n",
            "Enter a number: 4\n",
            "Enter a number: 99\n",
            "The sum of first and last number is 100\n"
          ]
        }
      ]
    },
    {
      "cell_type": "markdown",
      "source": [
        "##Problem Statement 3"
      ],
      "metadata": {
        "id": "YerOSCrbsorn"
      }
    },
    {
      "cell_type": "code",
      "source": [
        "\n",
        "grade = int(input(\"Enter your numerical grade: \"))\n",
        "\n",
        "if grade >= 90:\n",
        "  print(\"Your grade is A\")\n",
        "else:\n",
        "  if grade >= 80:\n",
        "    print(\"Your grade is B\")\n",
        "  else:\n",
        "      if grade >= 70:\n",
        "        print(\"Your grade is C\")\n",
        "      else: \n",
        "        if grade >= 60:\n",
        "          print(\"Your grade is D\")\n",
        "        else:\n",
        "          print(\"Your grade is F\")\n"
      ],
      "metadata": {
        "colab": {
          "base_uri": "https://localhost:8080/"
        },
        "id": "Ku2NQtFesq-s",
        "outputId": "ce481dbb-38b1-40ef-a9bb-3b0e8040816d"
      },
      "execution_count": 58,
      "outputs": [
        {
          "output_type": "stream",
          "name": "stdout",
          "text": [
            "Enter your numerical grade: 86\n",
            "Your grade is B\n"
          ]
        }
      ]
    }
  ]
}