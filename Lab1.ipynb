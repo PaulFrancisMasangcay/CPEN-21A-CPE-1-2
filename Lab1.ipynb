{
  "nbformat": 4,
  "nbformat_minor": 0,
  "metadata": {
    "colab": {
      "name": "Lab1.ipynb",
      "provenance": [],
      "authorship_tag": "ABX9TyP6D6y0cH2/0UkFqiJmub/T",
      "include_colab_link": true
    },
    "kernelspec": {
      "name": "python3",
      "display_name": "Python 3"
    },
    "language_info": {
      "name": "python"
    }
  },
  "cells": [
    {
      "cell_type": "markdown",
      "metadata": {
        "id": "view-in-github",
        "colab_type": "text"
      },
      "source": [
        "<a href=\"https://colab.research.google.com/github/paulfrancis24/CPEN-21A-CPE-1-2/blob/main/Lab1.ipynb\" target=\"_parent\"><img src=\"https://colab.research.google.com/assets/colab-badge.svg\" alt=\"Open In Colab\"/></a>"
      ]
    },
    {
      "cell_type": "markdown",
      "metadata": {
        "id": "tNytsGGL49u3"
      },
      "source": [
        "#**Laboratory 1**"
      ]
    },
    {
      "cell_type": "code",
      "metadata": {
        "colab": {
          "base_uri": "https://localhost:8080/"
        },
        "id": "pRNxeTmt3XIb",
        "outputId": "b8fed6f0-9bbb-40cc-fa31-0bb60c937bec"
      },
      "source": [
        "Title = \"Welcome to Python Programming\"\n",
        "print(Title)"
      ],
      "execution_count": 9,
      "outputs": [
        {
          "output_type": "stream",
          "name": "stdout",
          "text": [
            "Welcome to Python Programming\n"
          ]
        }
      ]
    },
    {
      "cell_type": "code",
      "metadata": {
        "colab": {
          "base_uri": "https://localhost:8080/"
        },
        "id": "gCVr59sd3-EK",
        "outputId": "96878c14-7d27-4379-8ffb-e214cd825b90"
      },
      "source": [
        "name = \"Paul Francis B. Masangcay\"\n",
        "address = \"Alulod, Indang, Cavite\"\n",
        "age = 18\n",
        "\n",
        "print(name)\n",
        "print(address)\n",
        "print(age)"
      ],
      "execution_count": 10,
      "outputs": [
        {
          "output_type": "stream",
          "name": "stdout",
          "text": [
            "Paul Francis B. Masangcay\n",
            "Alulod, Indang, Cavite\n",
            "18\n"
          ]
        }
      ]
    },
    {
      "cell_type": "code",
      "metadata": {
        "id": "UCu6JV294xC2"
      },
      "source": [
        ""
      ],
      "execution_count": null,
      "outputs": []
    }
  ]
}