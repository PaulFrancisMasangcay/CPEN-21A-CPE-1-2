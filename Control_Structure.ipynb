{
  "nbformat": 4,
  "nbformat_minor": 0,
  "metadata": {
    "colab": {
      "name": "Control Structure.ipynb",
      "provenance": [],
      "authorship_tag": "ABX9TyMm40jKwmr3omNx3/9t0zK7",
      "include_colab_link": true
    },
    "kernelspec": {
      "name": "python3",
      "display_name": "Python 3"
    },
    "language_info": {
      "name": "python"
    }
  },
  "cells": [
    {
      "cell_type": "markdown",
      "metadata": {
        "id": "view-in-github",
        "colab_type": "text"
      },
      "source": [
        "<a href=\"https://colab.research.google.com/github/paulfrancis24/CPEN-21A-CPE-1-2/blob/main/Control_Structure.ipynb\" target=\"_parent\"><img src=\"https://colab.research.google.com/assets/colab-badge.svg\" alt=\"Open In Colab\"/></a>"
      ]
    },
    {
      "cell_type": "markdown",
      "metadata": {
        "id": "b1gfca4KH5R4"
      },
      "source": [
        "##If Statement\n"
      ]
    },
    {
      "cell_type": "code",
      "metadata": {
        "colab": {
          "base_uri": "https://localhost:8080/"
        },
        "id": "HHBz3ZPGH_lG",
        "outputId": "40bb44d3-01b7-4f73-9597-5ab992c8b0de"
      },
      "source": [
        "a = 12 \n",
        "b = 100\n",
        "if (b > a):\n",
        "  print(\"b is greater than a\")"
      ],
      "execution_count": 1,
      "outputs": [
        {
          "output_type": "stream",
          "name": "stdout",
          "text": [
            "b is greater than a\n"
          ]
        }
      ]
    },
    {
      "cell_type": "markdown",
      "metadata": {
        "id": "jWj9QwozIT4f"
      },
      "source": [
        "##Elif Statement"
      ]
    },
    {
      "cell_type": "code",
      "metadata": {
        "colab": {
          "base_uri": "https://localhost:8080/"
        },
        "id": "2fEoVhKiISWd",
        "outputId": "92657f85-4218-45fc-8471-143af2ab3099"
      },
      "source": [
        "a = 120 \n",
        "b = 100\n",
        "\n",
        "if (b > a):\n",
        "  print(\"b is greater than a\")\n",
        "elif(a > b):\n",
        "  print(\"a is greater than a\")"
      ],
      "execution_count": 3,
      "outputs": [
        {
          "output_type": "stream",
          "name": "stdout",
          "text": [
            "b is greater than a\n"
          ]
        }
      ]
    },
    {
      "cell_type": "markdown",
      "metadata": {
        "id": "_yihz3f_IyZL"
      },
      "source": [
        "##Else Statement"
      ]
    },
    {
      "cell_type": "code",
      "metadata": {
        "colab": {
          "base_uri": "https://localhost:8080/"
        },
        "id": "EskuMd8cI0OX",
        "outputId": "a4178ace-2277-46e4-d255-f219baf5226c"
      },
      "source": [
        "a = 100\n",
        "b = 100\n",
        "\n",
        "if (b > a):\n",
        "  print(\"b is greater than a\")\n",
        "elif(a > b):\n",
        "  print(\"a is greater than a\")\n",
        "else:\n",
        "  print(\"a is equal to b\")"
      ],
      "execution_count": 4,
      "outputs": [
        {
          "output_type": "stream",
          "name": "stdout",
          "text": [
            "a is equal to b\n"
          ]
        }
      ]
    },
    {
      "cell_type": "markdown",
      "metadata": {
        "id": "IDAOSKCuJ8mT"
      },
      "source": [
        "##Shorthand If Statement"
      ]
    },
    {
      "cell_type": "code",
      "metadata": {
        "id": "A6uFVcUfJ-4h"
      },
      "source": [
        "a = 45 \n",
        "b = 30\n",
        "\n",
        "if (a > b): print(\"a is greater than b\")"
      ],
      "execution_count": null,
      "outputs": []
    },
    {
      "cell_type": "markdown",
      "metadata": {
        "id": "cXwsMLFWJ_cE"
      },
      "source": [
        "##Shorthand Else Statement"
      ]
    },
    {
      "cell_type": "code",
      "metadata": {
        "colab": {
          "base_uri": "https://localhost:8080/"
        },
        "id": "bEKWk5njKOT0",
        "outputId": "8a16d2ca-1083-49be-ca18-f31b1d604e74"
      },
      "source": [
        "a = 30 \n",
        "b = 30\n",
        "print(\"a is greater than b\") if (a > b) else print(\"b is greater than a\")"
      ],
      "execution_count": 5,
      "outputs": [
        {
          "output_type": "stream",
          "name": "stdout",
          "text": [
            "a is greater than b\n"
          ]
        }
      ]
    },
    {
      "cell_type": "markdown",
      "metadata": {
        "id": "LkLSR_i3KsLi"
      },
      "source": [
        "##And logic condition"
      ]
    },
    {
      "cell_type": "code",
      "metadata": {
        "colab": {
          "base_uri": "https://localhost:8080/"
        },
        "id": "oQidKTUaLI8q",
        "outputId": "0b78d947-973a-47a7-d6de-ab9c348ef657"
      },
      "source": [
        "x = 7\n",
        " \n",
        "if (x > 5 and x > 6):\n",
        "  print(\"Both conditions are true\")"
      ],
      "execution_count": 6,
      "outputs": [
        {
          "output_type": "stream",
          "name": "stdout",
          "text": [
            "Both conditions are true\n"
          ]
        }
      ]
    },
    {
      "cell_type": "markdown",
      "metadata": {
        "id": "0QA4ddi_LXBJ"
      },
      "source": [
        "##Or logic condition"
      ]
    },
    {
      "cell_type": "code",
      "metadata": {
        "colab": {
          "base_uri": "https://localhost:8080/"
        },
        "id": "DEpDOrL6LZLZ",
        "outputId": "63c3f0b9-a626-4cbf-c1fd-6ccf2815304a"
      },
      "source": [
        "x = 21\n",
        " \n",
        "if (x > 18 or x < 15):\n",
        "  print(\"True\")\n",
        "else:\n",
        "  print(\"False\")"
      ],
      "execution_count": 20,
      "outputs": [
        {
          "output_type": "stream",
          "name": "stdout",
          "text": [
            "True\n"
          ]
        }
      ]
    },
    {
      "cell_type": "markdown",
      "metadata": {
        "id": "CgbVlWA2L6QL"
      },
      "source": [
        "##Nested if"
      ]
    },
    {
      "cell_type": "code",
      "metadata": {
        "colab": {
          "base_uri": "https://localhost:8080/"
        },
        "id": "tQAJlC-1L755",
        "outputId": "b2777683-d630-4b8b-ed15-473801be0f65"
      },
      "source": [
        "if x > 10:\n",
        "  print (\"Above 10\")\n",
        "  if x > 20:\n",
        "    print(\"Above 20\")\n",
        "  else:\n",
        "    print(\"Below 20\")\n",
        "else:\n",
        "  print(\"x is less than 10\")    "
      ],
      "execution_count": 21,
      "outputs": [
        {
          "output_type": "stream",
          "name": "stdout",
          "text": [
            "Above 10\n",
            "Above 20\n"
          ]
        }
      ]
    },
    {
      "cell_type": "markdown",
      "metadata": {
        "id": "qiQTQB34NAYy"
      },
      "source": [
        "##Example 1"
      ]
    },
    {
      "cell_type": "code",
      "metadata": {
        "colab": {
          "base_uri": "https://localhost:8080/"
        },
        "id": "4XQUC1BqNCBE",
        "outputId": "0b54406a-f7b5-4219-a5ad-334760288ac4"
      },
      "source": [
        "age = int(input(\"Enter your age:\"))\n",
        "\n",
        "if age > 18:\n",
        "  print(\"You are qualified to vote\")\n",
        "else:\n",
        "  print(\"You are not qualified to vote\")"
      ],
      "execution_count": 25,
      "outputs": [
        {
          "output_type": "stream",
          "name": "stdout",
          "text": [
            "Enter your age:1345246588\n",
            "You are qualified to vote\n"
          ]
        }
      ]
    },
    {
      "cell_type": "markdown",
      "metadata": {
        "id": "fmdFVlHtNlTh"
      },
      "source": [
        "##Example 2 "
      ]
    },
    {
      "cell_type": "code",
      "metadata": {
        "colab": {
          "base_uri": "https://localhost:8080/"
        },
        "id": "3EhjIHvJNnRs",
        "outputId": "c7b51782-48fb-4185-fe37-e482990b8112"
      },
      "source": [
        "num = float(input(\"Enter your number:\"))\n",
        "\n",
        "if num == 0:\n",
        "  print(\"Your number is Zero\")\n",
        "elif num > 0:\n",
        "  print(\"Your number is Positive\")\n",
        "else:\n",
        "  print(\"Your number is Negative\")"
      ],
      "execution_count": 26,
      "outputs": [
        {
          "output_type": "stream",
          "name": "stdout",
          "text": [
            "Enter your number:-193.123\n",
            "Your number is Negative\n"
          ]
        }
      ]
    },
    {
      "cell_type": "markdown",
      "metadata": {
        "id": "63nKi_4qOmQJ"
      },
      "source": [
        "##Example 3 "
      ]
    },
    {
      "cell_type": "code",
      "metadata": {
        "colab": {
          "base_uri": "https://localhost:8080/"
        },
        "id": "qQxY6dlPOoFQ",
        "outputId": "b039ed22-a999-477c-ca29-7429157f6fe6"
      },
      "source": [
        "grade = float(input(\"Enter your grade here:\"))\n",
        "\n",
        "if grade >= 75 and grade <=100:\n",
        "  print(\"Passed\")\n",
        "elif (grade >= 74 and grade <75):\n",
        "  print(\"Remedial\")\n",
        "elif grade <= 74:\n",
        "  print(\"Failed\")\n",
        "else:\n",
        "  print(\"Try again\")\n"
      ],
      "execution_count": 66,
      "outputs": [
        {
          "output_type": "stream",
          "name": "stdout",
          "text": [
            "Enter your grade here:74.99999999999999999999\n",
            "Passed\n"
          ]
        }
      ]
    },
    {
      "cell_type": "markdown",
      "metadata": {
        "id": "vfCWtrbeRsPB"
      },
      "source": [
        ""
      ]
    }
  ]
}