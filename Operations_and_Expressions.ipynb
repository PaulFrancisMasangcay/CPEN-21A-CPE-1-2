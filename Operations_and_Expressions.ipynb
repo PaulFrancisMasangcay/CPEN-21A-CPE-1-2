{
  "nbformat": 4,
  "nbformat_minor": 0,
  "metadata": {
    "colab": {
      "name": "Operations and Expressions.ipynb",
      "provenance": [],
      "authorship_tag": "ABX9TyPc4qx0GOc+2n6fUVDqeJUb",
      "include_colab_link": true
    },
    "kernelspec": {
      "name": "python3",
      "display_name": "Python 3"
    },
    "language_info": {
      "name": "python"
    }
  },
  "cells": [
    {
      "cell_type": "markdown",
      "metadata": {
        "id": "view-in-github",
        "colab_type": "text"
      },
      "source": [
        "<a href=\"https://colab.research.google.com/github/paulfrancis24/CPEN-21A-CPE-1-2/blob/main/Operations_and_Expressions.ipynb\" target=\"_parent\"><img src=\"https://colab.research.google.com/assets/colab-badge.svg\" alt=\"Open In Colab\"/></a>"
      ]
    },
    {
      "cell_type": "markdown",
      "metadata": {
        "id": "obRwe8vH0cbl"
      },
      "source": [
        "#Boolean Operators"
      ]
    },
    {
      "cell_type": "code",
      "metadata": {
        "colab": {
          "base_uri": "https://localhost:8080/"
        },
        "id": "cE4-DJ26zGVY",
        "outputId": "cc81615f-c3bc-4511-839e-21960a2c78b4"
      },
      "source": [
        "#Booleans represent one of two values: True or False\n",
        "print(10 > 9)\n",
        "print(10 == 9)\n",
        "print(9 > 10)\n"
      ],
      "execution_count": 5,
      "outputs": [
        {
          "output_type": "stream",
          "name": "stdout",
          "text": [
            "True\n",
            "False\n",
            "False\n"
          ]
        }
      ]
    },
    {
      "cell_type": "code",
      "metadata": {
        "colab": {
          "base_uri": "https://localhost:8080/"
        },
        "id": "FDokpi_y0_T2",
        "outputId": "440c598a-ef3a-4fc9-e22d-913d359a65d6"
      },
      "source": [
        "a = 10\n",
        "b = 9\n",
        "print(a > b)\n",
        "print(a == a)\n",
        "print(b > a)\n",
        "a>b\n"
      ],
      "execution_count": 7,
      "outputs": [
        {
          "output_type": "stream",
          "name": "stdout",
          "text": [
            "True\n",
            "True\n",
            "False\n"
          ]
        },
        {
          "output_type": "execute_result",
          "data": {
            "text/plain": [
              "True"
            ]
          },
          "metadata": {},
          "execution_count": 7
        }
      ]
    },
    {
      "cell_type": "code",
      "metadata": {
        "colab": {
          "base_uri": "https://localhost:8080/"
        },
        "id": "c1osRnYg16j2",
        "outputId": "ee717645-f853-409b-9a35-48f9fabe1ab0"
      },
      "source": [
        "print(bool(\"Hello\"))\n",
        "print(bool(15))\n",
        "print(bool(True))"
      ],
      "execution_count": 9,
      "outputs": [
        {
          "output_type": "stream",
          "name": "stdout",
          "text": [
            "True\n",
            "True\n",
            "True\n"
          ]
        }
      ]
    },
    {
      "cell_type": "code",
      "metadata": {
        "colab": {
          "base_uri": "https://localhost:8080/"
        },
        "id": "2OQUywi62Kyg",
        "outputId": "d18f2019-07f2-4d0c-d100-7cfaff2904b8"
      },
      "source": [
        "print(bool(False))\n",
        "print(bool(None))\n",
        "print(bool(0))\n",
        "print(bool([]))               #allows you to evaluate and gives False in return"
      ],
      "execution_count": 13,
      "outputs": [
        {
          "output_type": "stream",
          "name": "stdout",
          "text": [
            "False\n",
            "False\n",
            "False\n",
            "False\n"
          ]
        }
      ]
    },
    {
      "cell_type": "code",
      "metadata": {
        "colab": {
          "base_uri": "https://localhost:8080/"
        },
        "id": "xpT1IJOr2w-r",
        "outputId": "93b01552-04a8-4536-a2e9-0882c3d3cadc"
      },
      "source": [
        "def myFunction():return True\n",
        "print(myFunction())"
      ],
      "execution_count": 25,
      "outputs": [
        {
          "output_type": "stream",
          "name": "stdout",
          "text": [
            "True\n"
          ]
        }
      ]
    },
    {
      "cell_type": "code",
      "metadata": {
        "colab": {
          "base_uri": "https://localhost:8080/"
        },
        "id": "6Wrh5WE-3Gxk",
        "outputId": "50c2228b-2fbc-4b73-99cb-c73c96c6e983"
      },
      "source": [
        "def myFunction():return True\n",
        "print(myFunction())\n",
        "\n",
        "if myFunction():\n",
        "  print(\"Yes\")\n",
        "else:\n",
        "  print(\"No\")"
      ],
      "execution_count": 26,
      "outputs": [
        {
          "output_type": "stream",
          "name": "stdout",
          "text": [
            "True\n",
            "Yes\n"
          ]
        }
      ]
    },
    {
      "cell_type": "code",
      "metadata": {
        "colab": {
          "base_uri": "https://localhost:8080/"
        },
        "id": "TUxoQhYd4OkM",
        "outputId": "dfe2f87a-c131-4793-9578-97a6476bcca1"
      },
      "source": [
        "\n",
        "a=6\n",
        "b=7\n",
        "\n",
        "print(a == b)\n",
        "print(a != a)"
      ],
      "execution_count": 30,
      "outputs": [
        {
          "output_type": "stream",
          "name": "stdout",
          "text": [
            "False\n",
            "False\n"
          ]
        }
      ]
    },
    {
      "cell_type": "code",
      "metadata": {
        "colab": {
          "base_uri": "https://localhost:8080/"
        },
        "id": "SjkI9aqS4sIM",
        "outputId": "7d7510f0-10c5-466a-d687-084dc73a345b"
      },
      "source": [
        "print(10 + 5)\n",
        "print(10 - 5)\n",
        "print(10 * 5)\n",
        "print(10 / 5)\n"
      ],
      "execution_count": 32,
      "outputs": [
        {
          "output_type": "stream",
          "name": "stdout",
          "text": [
            "15\n",
            "5\n",
            "50\n",
            "2.0\n"
          ]
        }
      ]
    },
    {
      "cell_type": "code",
      "metadata": {
        "colab": {
          "base_uri": "https://localhost:8080/"
        },
        "id": "lH059qWH7zad",
        "outputId": "5b7d66fa-dae3-4a33-f6bc-e0e8b5a82e6a"
      },
      "source": [
        "a=60 #0011 1100\n",
        "b=13 #0000 1101\n",
        "\n",
        "print(a&b)\n",
        "print(a|b)\n",
        "print(a^b)\n",
        "print(a<<2)\n",
        "print(b>>2)"
      ],
      "execution_count": 42,
      "outputs": [
        {
          "output_type": "stream",
          "name": "stdout",
          "text": [
            "12\n",
            "61\n",
            "49\n",
            "240\n",
            "3\n"
          ]
        }
      ]
    },
    {
      "cell_type": "code",
      "metadata": {
        "colab": {
          "base_uri": "https://localhost:8080/"
        },
        "id": "X_nTHvaq_M3s",
        "outputId": "c11a3574-32bc-47a1-f669-da185714170a"
      },
      "source": [
        "x = 6 \n",
        "x += 3    # x=x+3\n",
        "print (x)\n",
        "\n",
        "x %= 3    # x= 6%3, remainder 0\n",
        "print(x)\n"
      ],
      "execution_count": 44,
      "outputs": [
        {
          "output_type": "stream",
          "name": "stdout",
          "text": [
            "9\n",
            "0\n"
          ]
        }
      ]
    },
    {
      "cell_type": "code",
      "metadata": {
        "colab": {
          "base_uri": "https://localhost:8080/"
        },
        "id": "XqYnaf8K_nyw",
        "outputId": "47939edd-25e8-49be-9bd7-9e87c93b2232"
      },
      "source": [
        "a = True\n",
        "b = False\n",
        "\n",
        "print(a and b)\n",
        "print(a or b)\n",
        "print(not(a and b))"
      ],
      "execution_count": 51,
      "outputs": [
        {
          "output_type": "stream",
          "name": "stdout",
          "text": [
            "False\n",
            "True\n",
            "True\n"
          ]
        }
      ]
    },
    {
      "cell_type": "code",
      "metadata": {
        "colab": {
          "base_uri": "https://localhost:8080/"
        },
        "id": "uYglpgYM__vB",
        "outputId": "5531cbe0-ee8f-44f9-b53d-4d2f813517e7"
      },
      "source": [
        "print(a is b)\n",
        "print(a is not b)\n"
      ],
      "execution_count": 54,
      "outputs": [
        {
          "output_type": "stream",
          "name": "stdout",
          "text": [
            "False\n",
            "True\n"
          ]
        }
      ]
    }
  ]
}