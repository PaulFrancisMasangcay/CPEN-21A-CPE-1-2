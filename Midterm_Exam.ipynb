{
  "nbformat": 4,
  "nbformat_minor": 0,
  "metadata": {
    "colab": {
      "name": "Midterm Exam.ipynb",
      "provenance": [],
      "authorship_tag": "ABX9TyOC861BYyxUaJn9OUCNn4aS",
      "include_colab_link": true
    },
    "kernelspec": {
      "name": "python3",
      "display_name": "Python 3"
    },
    "language_info": {
      "name": "python"
    }
  },
  "cells": [
    {
      "cell_type": "markdown",
      "metadata": {
        "id": "view-in-github",
        "colab_type": "text"
      },
      "source": [
        "<a href=\"https://colab.research.google.com/github/paulfrancis24/CPEN-21A-CPE-1-2/blob/main/Midterm_Exam.ipynb\" target=\"_parent\"><img src=\"https://colab.research.google.com/assets/colab-badge.svg\" alt=\"Open In Colab\"/></a>"
      ]
    },
    {
      "cell_type": "markdown",
      "metadata": {
        "id": "BkimP3SBBrzQ"
      },
      "source": [
        "#Midterm Exam"
      ]
    },
    {
      "cell_type": "code",
      "metadata": {
        "colab": {
          "base_uri": "https://localhost:8080/"
        },
        "id": "ltXgpX_2B6uW",
        "outputId": "bd2df99a-b71f-410f-aad0-63d95fea8b88"
      },
      "source": [
        "#Problem Statement 1\n",
        "a = \"Paul Francis B. Masangcay\"\n",
        "b = 202101724\n",
        "c = 18\n",
        "d = \"January 24, 2003\"\n",
        "e = \"Alulod, Indang, Cavite\"\n",
        "f = \"Bachelor of Science in Computer Engineering\"\n",
        "g = 93\n",
        "\n",
        "print(a)\n",
        "print(b)\n",
        "print(c)\n",
        "print(d)\n",
        "print(e)\n",
        "print(f)\n",
        "print(g)"
      ],
      "execution_count": 5,
      "outputs": [
        {
          "output_type": "stream",
          "name": "stdout",
          "text": [
            "Paul Francis B. Masangcay\n",
            "202101724\n",
            "18\n",
            "January 24, 2003\n",
            "Alulod, Indang, Cavite\n",
            "Bachelor of Science in Computer Engineering\n",
            "93\n"
          ]
        }
      ]
    },
    {
      "cell_type": "code",
      "metadata": {
        "colab": {
          "base_uri": "https://localhost:8080/"
        },
        "id": "dn9W82CGD0ab",
        "outputId": "e5c32ddd-51f8-4c6f-c604-dfcbbda15522"
      },
      "source": [
        "#Problem Statement 2\n",
        "n = 4\n",
        "answ = \"Y\"\n",
        "\n",
        "print((2<n) and (n<6))                          #a\n",
        "print((2<n) or (n==6))                          #b\n",
        "print(not(2<n) or (n==6))                       #c\n",
        "print(not(n<6))                                 #d\n",
        "print((answ==\"Y\") or(answ == \"y\"))              #e\n",
        "print((answ==\"Y\") and (answ ==\"y\"))             #f\n",
        "print(not(answ==\"y\"))                           #g\n",
        "print(((2<n) and(n==5+1)) or (answ==\"No\"))      #h\n",
        "print(((n==2) and (n==7)) or (answ == \"Y\"))     #i\n",
        "print((n==2) and ((n==7) or (answ == \"Y\")))     #j"
      ],
      "execution_count": 20,
      "outputs": [
        {
          "output_type": "stream",
          "name": "stdout",
          "text": [
            "True\n",
            "True\n",
            "False\n",
            "False\n",
            "True\n",
            "False\n",
            "True\n",
            "False\n",
            "True\n",
            "False\n"
          ]
        }
      ]
    },
    {
      "cell_type": "code",
      "metadata": {
        "colab": {
          "base_uri": "https://localhost:8080/"
        },
        "id": "5EAInjWWH8KX",
        "outputId": "08ae66f2-5db8-4e09-8cf9-b0f0056202e7"
      },
      "source": [
        "#Problem Statement 3 \n",
        "x = 2\n",
        "y = -3\n",
        "w = 7\n",
        "z = -10\n",
        "\n",
        "print(x/y)\n",
        "print(w/y/x)\n",
        "print(z/y%x)\n",
        "print(x%-y*w)\n",
        "print(x%y)\n",
        "print(z%w-y/x*5+5)\n",
        "print(9-x%(2+y))\n",
        "print(z//w)\n",
        "print((2+y)**2)\n",
        "print((w/x)*2)"
      ],
      "execution_count": 27,
      "outputs": [
        {
          "output_type": "stream",
          "name": "stdout",
          "text": [
            "-0.6666666666666666\n",
            "-1.1666666666666667\n",
            "1.3333333333333335\n",
            "14\n",
            "-1\n",
            "16.5\n",
            "9\n",
            "-2\n",
            "1\n",
            "7.0\n"
          ]
        }
      ]
    }
  ]
}